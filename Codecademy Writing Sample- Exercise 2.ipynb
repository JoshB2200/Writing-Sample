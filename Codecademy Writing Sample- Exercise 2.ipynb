{
 "cells": [
  {
   "cell_type": "markdown",
   "metadata": {},
   "source": [
    "# Prerequisites\n",
    "\n",
    "•\tArithmetic Operations\n",
    "\n",
    "•\tStrings\n",
    "\n",
    "•\tLists\n",
    "\n",
    "•\tFor Loops, Nested Loops\n",
    "\n",
    "•\tIf-else Statements"
   ]
  },
  {
   "cell_type": "markdown",
   "metadata": {},
   "source": [
    "# Exercise 2- Using a Nested Loop to Generate a Flat List\n",
    "\n",
    "Suppose we have a list of lists:\n",
    "\n",
    "list_of_lists = [[2, 3, 7], [19, 3, 4]]\n",
    "\n",
    "Sometimes, we want to generate a new list that includes all elements of a list of lists. We can start out be defining the new list as an empty list []. We can then use a nested loop to iterate through all elements in the existing lists, appending them to the empty list:\n",
    "\n",
    "flat_list = []\n",
    "\n",
    "for i in list_of_lists:\n",
    "\n",
    "    for j in i:\n",
    "    \n",
    "        flat_list.append(j)\n",
    " \n",
    "print(flat_list)\n",
    "\n",
    "[2, 3, 7, 19, 3, 4]\n",
    "\n",
    "We now have one flat list that contains all elements of the original two lists.\n",
    "\n",
    "# Instructions\n",
    "\n",
    "We have defined a list of lists three_lists. Use a nested loop to:\n",
    "\n",
    "1. Generate a new list one_list_times_three that contains all elements of three_lists multiplied by 3. Print one_list_times_three"
   ]
  },
  {
   "cell_type": "code",
   "execution_count": 1,
   "metadata": {},
   "outputs": [
    {
     "name": "stdout",
     "output_type": "stream",
     "text": [
      "[15, 24, 12, 9, 33, 3, 27, 48, 6]\n"
     ]
    }
   ],
   "source": [
    "# Solutions\n",
    "\n",
    "three_lists = [[5, 8, 4], [3, 11, 1], [9, 16, 2]]\n",
    "\n",
    "one_list_times_three = []\n",
    "\n",
    "for i in three_lists:\n",
    "    for j in i:\n",
    "        one_list_times_three.append(3*j)\n",
    "\n",
    "print(one_list_times_three)"
   ]
  },
  {
   "cell_type": "code",
   "execution_count": null,
   "metadata": {},
   "outputs": [],
   "source": [
    "# Starting Code\n",
    "\n",
    "three_lists = [[5, 8, 4], [3, 11, 1], [9, 16, 2]]"
   ]
  },
  {
   "cell_type": "markdown",
   "metadata": {},
   "source": [
    "# Reflections\n",
    "\n",
    "a) I chose to create a distinct exercise about how to merge a list of lists into a flat list using a nested loop. This task felt relevant to me because I found myself doing this when working through Codecademy challenge exercises. This task fits into the learning objective for these four exercises: how to take a list and generate a new list.\n",
    "\n",
    "b) My style diverges from Codecademy in that I teach creating a flat list as a distinct exercise, while Codecademy teaches more generally how to use a nested loop. This exercise is supposed to teach a specific application of nested loops to a learner who already has a background with them. \n",
    "\n",
    "One pattern I have observed in Codecademy exercises is that there is generally one starting code per exercise and all parts of the exercise work off that starting code. I originally considered combining my Exercises 1 and 2, which would have involved two starting blocks of code (numbers in Exercise 1 and list_of_lists in Exercise 2). I ultimately decided that it would be too overwhelming for a learner to deal with two disconnected starting codes. The instructions would be longer and I would have to include more examples in one exercise. I therefore chose to stick with Codecademy's style of having two shorter exercises, each with its own starting code.\n",
    "\n",
    "c) I would want feedback on whether I should be more explicit about what a flat list is and why it can be useful to create one. Is the exercise too easy because it is very close to the given example?\n"
   ]
  }
 ],
 "metadata": {
  "kernelspec": {
   "display_name": "Python 3",
   "language": "python",
   "name": "python3"
  },
  "language_info": {
   "codemirror_mode": {
    "name": "ipython",
    "version": 3
   },
   "file_extension": ".py",
   "mimetype": "text/x-python",
   "name": "python",
   "nbconvert_exporter": "python",
   "pygments_lexer": "ipython3",
   "version": "3.7.1"
  }
 },
 "nbformat": 4,
 "nbformat_minor": 2
}
