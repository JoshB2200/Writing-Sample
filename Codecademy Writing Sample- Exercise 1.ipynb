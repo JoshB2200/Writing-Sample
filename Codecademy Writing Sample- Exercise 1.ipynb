{
 "cells": [
  {
   "cell_type": "markdown",
   "metadata": {},
   "source": [
    "# Prerequisites\n",
    "\n",
    "•\tArithmetic Operations\n",
    "\n",
    "•\tStrings\n",
    "\n",
    "•\tLists\n",
    "\n",
    "•\tFor Loops, Nested Loops\n",
    "\n",
    "•\tIf-else Statements\n",
    "\n"
   ]
  },
  {
   "cell_type": "markdown",
   "metadata": {},
   "source": [
    "# Exercise 1- Using a For Loop to Generate a New List\n",
    "\n",
    "Let's say we have a list:\n",
    "\n",
    "numbers = [3, 7, 14, 9, 12, 5]\n",
    "\n",
    "Sometimes, we want to generate a new list which is a modified version of the existing list. One way to generate a new modified list is to start out by defining it as an empty list []. Then use a for loop to iterate through elements in the existing list, modifiying each element and appending it to the new empty list:\n",
    "\n",
    "doubled_numbers = []\n",
    "\n",
    "for i in numbers:\n",
    "    \n",
    "    doubled_numbers.append(2 * i)\n",
    "\n",
    "print(doubled_numbers)\n",
    "\n",
    "[6, 14, 28, 18, 24, 10]\n",
    "\n",
    "We see that doubled_numbers has been filled with the modified elements from numbers.\n",
    "\n",
    "\n",
    "# Instructions\n",
    "\n",
    "We have defined a list squares. Use a for loop to:\n",
    "\n",
    "1. Generate a new list squareroots that includes the squareroot of every element in squares. Print squareroots.\n",
    "\n",
    "2. Generate a new list even_squareroots that includes the squareroot of every element in squares that has an even squareroot. Print even_squareroots.\n",
    "\n",
    "3. Generate a new list even_odd_squareroots that includes the squareroot of every element in squares, and adds a string ' is even' after each even element and ' is odd' after each odd element. Print even_odd_squareroots.\n"
   ]
  },
  {
   "cell_type": "code",
   "execution_count": 1,
   "metadata": {},
   "outputs": [
    {
     "name": "stdout",
     "output_type": "stream",
     "text": [
      "[1.0, 2.0, 3.0, 4.0, 5.0, 6.0, 7.0, 8.0]\n",
      "[2.0, 4.0, 6.0, 8.0]\n",
      "['1.0 is odd', '2.0 is even', '3.0 is odd', '4.0 is even', '5.0 is odd', '6.0 is even', '7.0 is odd', '8.0 is even']\n"
     ]
    }
   ],
   "source": [
    "# Solutions\n",
    "\n",
    "squares = [1, 4, 9, 16, 25, 36, 49, 64]\n",
    "\n",
    "#1. Squareroots\n",
    "\n",
    "squareroots = []\n",
    "\n",
    "for i in squares:\n",
    "    squareroots.append(i**.5)\n",
    "\n",
    "print(squareroots)\n",
    "\n",
    "# Dropdown hint: A squareroot can be represented exponentially as .5.\n",
    "\n",
    "#2. Even Squareroots\n",
    "\n",
    "even_squareroots = []\n",
    "\n",
    "for i in squares:\n",
    "    if i**.5 % 2 == 0:\n",
    "        even_squareroots.append(i**.5)\n",
    "\n",
    "print(even_squareroots)\n",
    "\n",
    "# Dropdown hint: Use the modulo command to determine if a number is even.\n",
    "\n",
    "#3. Even-Odd\n",
    "\n",
    "even_odd_squareroots = []\n",
    "\n",
    "for i in squares:\n",
    "    if i**.5 % 2 == 0:\n",
    "        even_odd_squareroots.append(str(i**.5) + ' is even')\n",
    "    else:\n",
    "        even_odd_squareroots.append(str(i**.5) + ' is odd')\n",
    "        \n",
    "print(even_odd_squareroots)\n",
    "\n",
    "# Dropdown hint: the str() command can convert a float or integer into a string.\n",
    "      \n"
   ]
  },
  {
   "cell_type": "code",
   "execution_count": 2,
   "metadata": {},
   "outputs": [],
   "source": [
    "# Starting Code\n",
    "\n",
    "squares = [1, 4, 9, 16, 25, 36, 49, 64]\n"
   ]
  },
  {
   "cell_type": "markdown",
   "metadata": {},
   "source": [
    "# Reflections\n",
    "\n",
    "a) This assignment was fun for me because I recently completed the list comprehension exercises in Codecademy's Python 3 course. Codecademy's course teaches list comprehensions in Exercises 9 and 10 of the lesson on loops. The exercises show how to use simple and conditional list comprehensions to generate new lists, explaining that for loops require multiple lines of code, but list comprehensions require just one line. I chose to build on these exercises to also teach if/else statements and nested statements in list comprehensions. \n",
    "\n",
    "b) Codecademy teaches list comprehensions by first showing how to use a for loop to generate a new list and then showing how a list comprehension can execute the same task in one line of code. This is all combined into Exercise 9 of the lesson on loops. \n",
    "\n",
    "My exercises are geared towards a learner who already knows for loops and lists. I am coming in with a targeted objective of teaching the learner how to take an existing list and generate a new modified list. With this purpose in mind, I chose to break up for loops and list comprehensions into different exercises. My goal in Exercises 1 and 2 is for the learner to build skills in how to use for loops to generate a new list, giving him or her practice with an if statement, an if/else statement, and a nested loop. The goal in Exercises 3 and 4 if for the learner to realize that he or she can accomplish these same tasks with list comprehensions. I felt that breaking up the for loop and list comprehension exercises would allow the learner to have a greater \"Aha\" moment when he or she realizes that there are multiple approaches to execute the same tasks in Python. I also felt that it would be helpful for the learner to see that list comprehensions can accomplish several of the same tasks that for loops can. That is why I included if/else statements and nested loops. By only teaching simple list comprehensions and if statements, Codecademy runs the risk of leaving the learner with a limited impression of what list comprehensions can do. I should note that Codecademy does include a link to if/else statements in the community forum at the botton of Exercise 9. This link inspired me to look more into what list comprehensions can do. I should also note that my overall style of how to write an individual exercise is modeled on Codecademy: starting out with sample code interspersed by explanations, making the problem slightly harder than the example by asking the learner to incorporate strings, modulos, exponents, etc.\n",
    "\n",
    "c) A challenge of this assignment was that I am asked to create exercises, but am not given the broader context of the Codecademy lesson I am writing for. If I were working at Codecademy writing an actual exercise, the way I would frame it would be heavily based on the context of the lesson. I would think about what the learner has already learned in previous lessons and exercises and what we can teach right now to help the learner make one step forward. Here I made up a context that the learner already knows lists and for loops and an objective that we want to teach him or her how to generate new lists— both with for loops and list comprehensions. I would want feedback on whether this task is too specific or too easy for a learner with the given background knowledge. Does the learner understand why and when it would be helpful to generate a new modified list? Would a real-life example help to illustrate that?\n"
   ]
  }
 ],
 "metadata": {
  "kernelspec": {
   "display_name": "Python 3",
   "language": "python",
   "name": "python3"
  },
  "language_info": {
   "codemirror_mode": {
    "name": "ipython",
    "version": 3
   },
   "file_extension": ".py",
   "mimetype": "text/x-python",
   "name": "python",
   "nbconvert_exporter": "python",
   "pygments_lexer": "ipython3",
   "version": "3.7.1"
  }
 },
 "nbformat": 4,
 "nbformat_minor": 2
}
