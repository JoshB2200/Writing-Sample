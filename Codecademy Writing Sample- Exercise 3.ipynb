{
 "cells": [
  {
   "cell_type": "markdown",
   "metadata": {},
   "source": [
    "# Prerequisites\n",
    "\n",
    "•\tArithmetic Operations\n",
    "\n",
    "•\tStrings\n",
    "\n",
    "•\tLists\n",
    "\n",
    "•\tFor Loops, Nested Loops\n",
    "\n",
    "•\tIf-else Statements"
   ]
  },
  {
   "cell_type": "markdown",
   "metadata": {},
   "source": [
    "# Exercise 3- Using a List Comprehension to Generate a New List\n",
    "\n",
    "Let us return to the list numbers:\n",
    "\n",
    "numbers = [3, 7, 14, 9, 12, 5]\n",
    "\n",
    "Previously, we learned how to generate a new modified list using a for loop. This requires multiple lines of code because we first create an empty list [] and then append elements to it using a for loop.\n",
    "\n",
    "A list comprehension is a useful tool to generate a new list with one line of code.\n",
    "\n",
    "We want to generate a new list halved_numbers. We can do this with a list comprehension:\n",
    "\n",
    "halved_numbers = [i/2 for i in numbers]\n",
    "\n",
    "print(halved_numbers)\n",
    "\n",
    "[1.5, 3.5, 7.0, 4.5, 6.0, 2.5]\n",
    "\n",
    "If we look at the syntax of the list comprehension, it is essentially a for loop built into a list: \n",
    "\n",
    "1. \"for i in numbers\" iterates through all elements in numbers. \n",
    "2. \"i/2\" modifies each element and appends it to the new list.\n",
    "\n",
    "Just like for loops, list comprehensions can contain conditional statements:\n",
    "\n",
    "numbers_less_than_eight = [i for i in numbers if i < 8]\n",
    "\n",
    "print(numbers_less_than_eight)\n",
    "\n",
    "[3, 7, 5]\n",
    "\n",
    "We can also incorporate if/else statements into list comprehensions:\n",
    "\n",
    "some_halved = [i if i < 8 else i/2 for i in numbers]\n",
    "\n",
    "print(some_halved)\n",
    "\n",
    "[3, 7, 7.0, 4.5, 6.0, 5]\n",
    "\n",
    "Note that when incorporating if statements or if/else statements into list comprehensions, we have to be careful about the ordering of the syntax. An if statement comes after the for statement. An if/else statement comes before the for statment. Switching these orders can lead to an error or non-desired output.\n",
    "\n",
    "\n",
    "# Instructions\n",
    "\n",
    "We have defined a list cubes. Use a list comprehension to:\n",
    "\n",
    "1. Generate a new list cuberoots that includes the cuberoot of every element in cubes. Print cuberoots.\n",
    "\n",
    "2. Generate a new list odd_cuberoots that includes the cuberoot of every element in cubes that has an odd cuberoot. Print odd_cuberoots.\n",
    "\n",
    "3. Generate a new list small_big_cuberoots that includes the cuberoot of every element in cubes, and adds a string ' is small' after each cuberoot less than 3.5 and ' is big' after all other cuberoots. Print small_big_cuberoots.\n"
   ]
  },
  {
   "cell_type": "code",
   "execution_count": 2,
   "metadata": {},
   "outputs": [
    {
     "name": "stdout",
     "output_type": "stream",
     "text": [
      "[1.0, 2.0, 3.0, 3.9999999999999996, 5.0, 5.999999999999999]\n",
      "[1.0, 3.0, 5.0]\n",
      "['1.0 is small', '2.0 is small', '3.0 is small', '3.9999999999999996 is big', '5.0 is big', '5.999999999999999 is big']\n"
     ]
    }
   ],
   "source": [
    "# Solutions\n",
    "\n",
    "cubes = [1, 8, 27, 64, 125, 216]\n",
    "\n",
    "cuberoots = [i**(1/3) for i in cubes]\n",
    "\n",
    "print(cuberoots)\n",
    "\n",
    "odd_cuberoots = [i**(1/3) for i in cubes if i**(1/3) % 2 == 1]\n",
    "\n",
    "print(odd_cuberoots)\n",
    "\n",
    "small_big_cuberoots = [str(i**(1/3)) + ' is small' if i**(1/3) < 3.5 else str(i**(1/3)) + ' is big' for i in cubes]\n",
    "                           \n",
    "print(small_big_cuberoots)"
   ]
  },
  {
   "cell_type": "code",
   "execution_count": null,
   "metadata": {},
   "outputs": [],
   "source": [
    "# Starting code\n",
    "\n",
    "cubes = [1, 8, 27, 64, 125, 216]\n"
   ]
  },
  {
   "cell_type": "markdown",
   "metadata": {},
   "source": [
    "# Reflections\n",
    "\n",
    "a) Exercise 3 teaches learners how to use a list comprehension to generate a new list. Learners are supposed to realize that they can add if statements and if/else statements just like when they created new lists with for loops in Exercise 1.\n",
    "\n",
    "b) I emulated Codecademy's style through explaining the benefit of a list comprehension over a for loop— that the former creates a new list in just one line.\n",
    "\n",
    "I differed from Codecademy in how I explained the syntax of a list comprehension. In its example in Exercise 9 of its lesson on loops, Codecademy breaks a list comprehension down into 4 steps:\n",
    "1. Takes an element in words\n",
    "2. Assigns that element to a variable called word\n",
    "3. Checks if word[0] == '@', and if so, it adds word to the new list, usernames. If not, nothing happens.\n",
    "4. Repeats steps 1-3 for all of the strings in words\n",
    "\n",
    "As a learner I found this helpful, although I was slightly mixed up by \"word\" vs. \"words\". I therefore used \"i\" and \"j\" when referring to elements in my exercises. I tried to explain a list comprehension as simply as possible and tried to help the learner to build intuition on how it relates to a for loop. I therefore wrote \"If we look at the syntax of the list comprehension, it is essentially a for loop built into a list...\" Codecademy incorporates a conditional statement into its example and has a link to if/else statements in the community forum. I felt that it would be helpful to explicitly teach if statements and if/else in this exercise, as well as the correct order of the syntax. I think that a learner will be more likely to use a list comprehension in the future if he or she realizes its versatility.\n",
    "\n",
    "c) When writing this exercise, I worried if I possibly taught too much at once. Maybe I should have broken up simple list comprehensions and conditional list comprehensions into multiple exercises. Perhaps Codecademy refrained from teaching if/else statements because it could be overwhelming for the learner or the syntax nuances could be confusing. Did I explain the syntax of list comprehensions clearly enough?\n"
   ]
  }
 ],
 "metadata": {
  "kernelspec": {
   "display_name": "Python 3",
   "language": "python",
   "name": "python3"
  },
  "language_info": {
   "codemirror_mode": {
    "name": "ipython",
    "version": 3
   },
   "file_extension": ".py",
   "mimetype": "text/x-python",
   "name": "python",
   "nbconvert_exporter": "python",
   "pygments_lexer": "ipython3",
   "version": "3.7.1"
  }
 },
 "nbformat": 4,
 "nbformat_minor": 2
}
