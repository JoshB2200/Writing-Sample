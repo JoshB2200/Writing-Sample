{
 "cells": [
  {
   "cell_type": "markdown",
   "metadata": {},
   "source": [
    "# Prerequisites\n",
    "\n",
    "•\tArithmetic Operations\n",
    "\n",
    "•\tStrings\n",
    "\n",
    "•\tLists\n",
    "\n",
    "•\tFor Loops, Nested Loops\n",
    "\n",
    "•\tIf-else Statements"
   ]
  },
  {
   "cell_type": "markdown",
   "metadata": {},
   "source": [
    "# Exercise 4- Using a Nested List Comprehension to Generate a Flat List\n",
    "\n",
    "Let us return to our list of lists:\n",
    "\n",
    "list_of_lists = [[2, 3, 7], [19, 3, 4]]\n",
    "\n",
    "Previously, we learned how to generate a flat list using a nested for loop. We can also do this with a list comprehension:\n",
    "\n",
    "list_of_lists = [[2, 3, 7], [19, 3, 4]]\n",
    "\n",
    "flat_list = [j for i in list_of_lists for j in i]\n",
    "\n",
    "print(flat_list)\n",
    "\n",
    "[2, 3, 7, 19, 3, 4]\n",
    "\n",
    "Let's break down the syntax here:\n",
    "\n",
    "1. The first for statement \"for i in list_of_lists\" defines i as each list in list_of_lists. \n",
    "2. The second for statement \"for j in i\" defines j as each element in list i. \n",
    "3. \"j\" comes at the beginning of the list comprehension to indicate that each element j in each list i will be appended to our new list. \n",
    "\n",
    "The ordering of this syntax needs to be precise and reversing it can cause an error.\n",
    "\n",
    "# Instructions\n",
    "\n",
    "We have defined a list of lists four_lists. Use a nested list comprehension to:\n",
    "\n",
    "1. Generate a new list one_list_squared that contains all elements of four_lists squared. Print one_list_squared.\n"
   ]
  },
  {
   "cell_type": "code",
   "execution_count": 1,
   "metadata": {},
   "outputs": [
    {
     "name": "stdout",
     "output_type": "stream",
     "text": [
      "[9, 25, 36, 4, 81, 1, 16, 49]\n"
     ]
    }
   ],
   "source": [
    "# Solutions\n",
    "\n",
    "four_lists = [[3, 5], [6, 2], [9, 1], [4, 7]]\n",
    "\n",
    "one_list_squared = [j**2 for i in four_lists for j in i]\n",
    "\n",
    "print(one_list_squared)\n"
   ]
  },
  {
   "cell_type": "code",
   "execution_count": 2,
   "metadata": {},
   "outputs": [],
   "source": [
    "# Starting code\n",
    "\n",
    "four_lists = [[3, 5], [6, 2], [9, 1], [4, 7]]"
   ]
  },
  {
   "cell_type": "markdown",
   "metadata": {},
   "source": [
    "# Reflections\n",
    "\n",
    "a) Exercise 4 teaches the learner how to use a nested list comprehension to generate a flat list, just like he or she learned how to do using a for loop in Exercise 2.\n",
    "\n",
    "b) I emulated Codecademy's style in the general sense of giving a related example and breaking down the syntax in numerical steps.\n",
    "\n",
    "I differed from Codecademy in teaching how to nest within a list comprehension. I want the learner to realize the versatility of list comprehensions and how they are concise alternatives to for loops for multiple tasks.\n",
    "\n",
    "c) As with Exercise 2, I wonder if Exercise 4 is too easy because it is very close to the given example. Should I have explained the usefulness of combining a list of lists into a flat list? Is it too confusing and unnecessary to learn a nested list comprehension if a learner already knows how to use nested loops? The precise syntax ordering of a nested list comprehension could be annoying. A learner could feel discouraged if later on her or she gets errors for not getting the syntax exactly correct. Perhaps it is easier to stick with nested for loops when creating a flat list, even if it requires more lines of code.\n"
   ]
  }
 ],
 "metadata": {
  "kernelspec": {
   "display_name": "Python 3",
   "language": "python",
   "name": "python3"
  },
  "language_info": {
   "codemirror_mode": {
    "name": "ipython",
    "version": 3
   },
   "file_extension": ".py",
   "mimetype": "text/x-python",
   "name": "python",
   "nbconvert_exporter": "python",
   "pygments_lexer": "ipython3",
   "version": "3.7.1"
  }
 },
 "nbformat": 4,
 "nbformat_minor": 2
}
